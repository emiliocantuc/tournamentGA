{
 "cells": [
  {
   "cell_type": "markdown",
   "id": "af194916",
   "metadata": {},
   "source": [
    "# Investigando algo genético para planear torneos *Double Round Robin*"
   ]
  },
  {
   "cell_type": "markdown",
   "id": "d79f42d7",
   "metadata": {},
   "source": [
    "En torneos Double Round Robin todos los equipos se enfrentan 2 veces, una vez en casa y otra de visita."
   ]
  },
  {
   "cell_type": "markdown",
   "id": "527d310c",
   "metadata": {},
   "source": [
    "Como conocemos todas las partidas de antemano, la planeación de un torneo se reduce a ordenar las partidas de una forma válida/óptima. Para que una asignacion sea valida cada equipo debe jugar exactamente una vez por jornada."
   ]
  },
  {
   "cell_type": "markdown",
   "id": "3e8335f3",
   "metadata": {},
   "source": [
    "Si hay $n$ equipos, hay\n",
    "- $n(n-1)$ juegos en el torneo\n",
    "- $n/2$ juegos por jornada\n",
    "- y $2(n-1)$ jornadas."
   ]
  },
  {
   "cell_type": "markdown",
   "id": "d8a7fe2d",
   "metadata": {},
   "source": [
    "Representamos una partida con la pareja $(X,Y)$, que indica que juega $X$ vs. $Y$ en casa de $X$."
   ]
  },
  {
   "cell_type": "markdown",
   "id": "0261adbf",
   "metadata": {},
   "source": [
    "Codigo en inglés. Jornada->week."
   ]
  },
  {
   "cell_type": "code",
   "execution_count": 37,
   "id": "e10e2699",
   "metadata": {},
   "outputs": [],
   "source": [
    "import numpy as np\n",
    "import random,time,json\n",
    "from tqdm import tqdm\n",
    "import os\n",
    "import matplotlib.pyplot as plt"
   ]
  },
  {
   "cell_type": "code",
   "execution_count": 2,
   "id": "5da316e4",
   "metadata": {},
   "outputs": [],
   "source": [
    "# Given the number of teams, returns the list of games that must be played\n",
    "def games(nTeams):\n",
    "    games=[]\n",
    "    for i in range(1,nTeams+1):\n",
    "        for j in range(1,nTeams+1):\n",
    "            if i==j:continue\n",
    "            games.append((i,j))\n",
    "    assert len(games)==nTeams*(nTeams-1)\n",
    "    return games"
   ]
  },
  {
   "cell_type": "code",
   "execution_count": 3,
   "id": "142b43c0",
   "metadata": {},
   "outputs": [],
   "source": [
    "# Returns a random assignment/tournament by shuffling the list of games\n",
    "def randomAssignment(nTeams):\n",
    "    p=games(nTeams)\n",
    "    random.shuffle(p)\n",
    "    return p"
   ]
  },
  {
   "cell_type": "code",
   "execution_count": 4,
   "id": "5b014e32",
   "metadata": {},
   "outputs": [],
   "source": [
    "# Returns a random assignment of teams to cities\n",
    "def randomCityTeams(nTeams,nCities):\n",
    "    cities={i:[] for i in range(1,nCities+1)} # city:[team1,team2]\n",
    "    randTeams=list(range(1,nTeams+1))\n",
    "    random.shuffle(randTeams)\n",
    "    while len(randTeams)>0:\n",
    "        city=random.choice(range(1,nCities+1))\n",
    "        cities[city].append(randTeams.pop())\n",
    "    return cities"
   ]
  },
  {
   "cell_type": "code",
   "execution_count": 5,
   "id": "ed4e19cd",
   "metadata": {},
   "outputs": [],
   "source": [
    "# Given a cityTeams dict (city:[list of teams]), returns a dict (team:city)\n",
    "def teamToCity(cityTeams):\n",
    "    out={}\n",
    "    for city,teams in cityTeams.items():\n",
    "        for team in teams:\n",
    "            out[team]=city\n",
    "    return out"
   ]
  },
  {
   "cell_type": "code",
   "execution_count": 6,
   "id": "f1dde995",
   "metadata": {},
   "outputs": [],
   "source": [
    "def randomCityDistances(nCities,low=0,high=100):\n",
    "    r=np.random.randint(low,high,size=(nCities,nCities))\n",
    "    return (r+r.T)/2"
   ]
  },
  {
   "cell_type": "code",
   "execution_count": 7,
   "id": "92f22827",
   "metadata": {},
   "outputs": [
    {
     "data": {
      "text/plain": [
       "array([[53. , 45.5, 19.5, 45.5],\n",
       "       [45.5, 42. , 69.5, 64. ],\n",
       "       [19.5, 69.5, 22. , 10.5],\n",
       "       [45.5, 64. , 10.5,  6. ]])"
      ]
     },
     "execution_count": 7,
     "metadata": {},
     "output_type": "execute_result"
    }
   ],
   "source": [
    "randomCityDistances(4)"
   ]
  },
  {
   "cell_type": "code",
   "execution_count": 8,
   "id": "5e1561a9",
   "metadata": {},
   "outputs": [
    {
     "data": {
      "text/plain": [
       "{1: [2, 4], 2: [3], 3: [1]}"
      ]
     },
     "execution_count": 8,
     "metadata": {},
     "output_type": "execute_result"
    }
   ],
   "source": [
    "randomCityTeams(4,3)"
   ]
  },
  {
   "cell_type": "code",
   "execution_count": 9,
   "id": "077eeb08",
   "metadata": {
    "scrolled": true
   },
   "outputs": [
    {
     "data": {
      "text/plain": [
       "[(4, 1),\n",
       " (3, 1),\n",
       " (4, 3),\n",
       " (3, 2),\n",
       " (3, 4),\n",
       " (1, 3),\n",
       " (2, 3),\n",
       " (4, 2),\n",
       " (1, 4),\n",
       " (2, 4),\n",
       " (1, 2),\n",
       " (2, 1)]"
      ]
     },
     "execution_count": 9,
     "metadata": {},
     "output_type": "execute_result"
    }
   ],
   "source": [
    "randomAssignment(4)"
   ]
  },
  {
   "cell_type": "code",
   "execution_count": 10,
   "id": "44c14d98",
   "metadata": {},
   "outputs": [],
   "source": [
    "def lastWeek(assignment,nTeams):\n",
    "    week=[]\n",
    "    for i in range(0,len(assignment),nTeams//2):\n",
    "        week=assignment[i:i+nTeams//2]\n",
    "    return week"
   ]
  },
  {
   "cell_type": "code",
   "execution_count": 11,
   "id": "734f444c",
   "metadata": {},
   "outputs": [],
   "source": [
    "def approx(nTeams):\n",
    "    current=[]\n",
    "    gs=games(nTeams)\n",
    "    remaining=gs[:]\n",
    "    random.shuffle(remaining)\n",
    "    week=[]\n",
    "    while len(current)!=nTeams*(nTeams-1):\n",
    "        available=[]\n",
    "        for game in remaining:\n",
    "            if game[0] not in week and game[1] not in week:\n",
    "                available.append(game)\n",
    "        game=random.choice(available) if available else remaining.pop()\n",
    "        current.append(game)\n",
    "        week.append(game)\n",
    "        week=week[-nTeams//2:]\n",
    "        remaining.remove(game)\n",
    "    assert len(set(current))==nTeams*(nTeams-1)\n",
    "    return current   "
   ]
  },
  {
   "cell_type": "code",
   "execution_count": 12,
   "id": "ade108f8",
   "metadata": {},
   "outputs": [
    {
     "data": {
      "text/plain": [
       "[(1, 2),\n",
       " (1, 3),\n",
       " (3, 4),\n",
       " (2, 3),\n",
       " (3, 1),\n",
       " (4, 1),\n",
       " (4, 2),\n",
       " (1, 4),\n",
       " (4, 3),\n",
       " (3, 2),\n",
       " (2, 4),\n",
       " (2, 1)]"
      ]
     },
     "execution_count": 12,
     "metadata": {},
     "output_type": "execute_result"
    }
   ],
   "source": [
    "approx(4)"
   ]
  },
  {
   "cell_type": "code",
   "execution_count": 13,
   "id": "6ee14e7c",
   "metadata": {},
   "outputs": [],
   "source": [
    "def approxAssignment(nTeams):\n",
    "    current=[]\n",
    "    gs=games(nTeams)\n",
    "    remaining=gs[:]\n",
    "    while len(current)!=nTeams*(nTeams-1):\n",
    "        available=[]\n",
    "        inLastWeek=teamsInGames(lastWeek(current,nTeams))\n",
    "        for game in remaining:\n",
    "            if game[0] not in inLastWeek and game[1] not in inLastWeek:\n",
    "                available.append(game)\n",
    "        game=random.choice(available) if available else random.choice(remaining)\n",
    "        current.append(game)\n",
    "        remaining.remove(game)\n",
    "    assert len(set(current))==nTeams*(nTeams-1)\n",
    "    return current"
   ]
  },
  {
   "cell_type": "code",
   "execution_count": 24,
   "id": "09c07be3",
   "metadata": {},
   "outputs": [],
   "source": [
    "# Used in conflicts(). Given a list of len 2 tuples, returns a list with all elements.\n",
    "def teamsInGames(week):\n",
    "    out=[]\n",
    "    for game in week:\n",
    "        out.append(game[0])\n",
    "        out.append(game[1])\n",
    "    return out"
   ]
  },
  {
   "cell_type": "code",
   "execution_count": 15,
   "id": "af87ac00",
   "metadata": {},
   "outputs": [],
   "source": [
    "# Returns the conflicts in an assignment/tournament.\n",
    "# Marks as 1 games in which a participating team plays more than once in that week.\n",
    "def conflicts(assignment,nTeams):\n",
    "    conflicts=[]\n",
    "    n=nTeams \n",
    "    for i in range(0,len(assignment),n//2):\n",
    "        week=assignment[i:i+n//2]\n",
    "        #print(week)\n",
    "        teamsInWeek=teamsInGames(week)\n",
    "        for game in week:\n",
    "            conflicts.append(0)\n",
    "            #if assignment.count(game)!=1:\n",
    "             #   conflicts[-1]=1\n",
    "            #else:\n",
    "            for team in game:\n",
    "                if teamsInWeek.count(team)!=1:\n",
    "                    conflicts[-1]=1\n",
    "    return conflicts"
   ]
  },
  {
   "cell_type": "code",
   "execution_count": 16,
   "id": "4d543338",
   "metadata": {},
   "outputs": [
    {
     "data": {
      "text/plain": [
       "[[4, 3],\n",
       " [3, 4],\n",
       " [1, 3],\n",
       " [1, 2],\n",
       " [2, 4],\n",
       " [1, 4],\n",
       " [4, 2],\n",
       " [2, 3],\n",
       " [3, 2],\n",
       " [4, 1],\n",
       " [2, 1],\n",
       " [3, 1]]"
      ]
     },
     "execution_count": 16,
     "metadata": {},
     "output_type": "execute_result"
    }
   ],
   "source": [
    "for i in range(100):\n",
    "    p=randomAssignment(8)\n",
    "    if nConflicts(p,8)!=nConflicts2(p,8):\n",
    "        pass\n",
    "        #print(i,nConflicts(p,8),nConflicts2(p,8))"
   ]
  },
  {
   "cell_type": "code",
   "execution_count": 19,
   "id": "03d64156",
   "metadata": {},
   "outputs": [
    {
     "name": "stdout",
     "output_type": "stream",
     "text": [
      "[4,3],[1,3],[3,4],[1,4],[3,1],[4,2],[3,2],[2,1],[4,1],[2,4],[1,2],[2,3],"
     ]
    }
   ],
   "source": [
    "a=conflicts(p,4)\n",
    "n=4\n",
    "for i in range(0,len(a),n//2):\n",
    "        \n",
    "        week=a[i:i+n//2]\n",
    "        print(p[i:i+n//2],week,sum(week))"
   ]
  },
  {
   "cell_type": "code",
   "execution_count": 18,
   "id": "08f994b9",
   "metadata": {
    "scrolled": false
   },
   "outputs": [
    {
     "data": {
      "text/plain": [
       "[(4, 3),\n",
       " (1, 3),\n",
       " (3, 4),\n",
       " (1, 4),\n",
       " (3, 1),\n",
       " (4, 2),\n",
       " (3, 2),\n",
       " (2, 1),\n",
       " (4, 1),\n",
       " (2, 4),\n",
       " (1, 2),\n",
       " (2, 3)]"
      ]
     },
     "execution_count": 18,
     "metadata": {},
     "output_type": "execute_result"
    }
   ],
   "source": [
    "p"
   ]
  },
  {
   "cell_type": "code",
   "execution_count": 20,
   "id": "2700991c",
   "metadata": {},
   "outputs": [
    {
     "data": {
      "text/plain": [
       "[1, 1, 1, 1, 0, 0, 1, 1, 1, 1, 1, 1]"
      ]
     },
     "execution_count": 20,
     "metadata": {},
     "output_type": "execute_result"
    }
   ],
   "source": [
    "conflicts(p,4)"
   ]
  },
  {
   "cell_type": "code",
   "execution_count": 21,
   "id": "adc674fa",
   "metadata": {},
   "outputs": [],
   "source": [
    "# Returns the number of conflicts in an assignment. \n",
    "def nConflicts(assignment,nTeams):\n",
    "    return sum(conflicts(assignment,nTeams))"
   ]
  },
  {
   "cell_type": "markdown",
   "id": "b1696686",
   "metadata": {},
   "source": [
    "## Min conflits (base line)"
   ]
  },
  {
   "cell_type": "markdown",
   "id": "a742eebd",
   "metadata": {},
   "source": [
    "Para comparar el algo genetico con algo, intente implementar Min Conflicts (ver busqueda local en el lib) con swaps."
   ]
  },
  {
   "cell_type": "code",
   "execution_count": 22,
   "id": "d580acaf",
   "metadata": {},
   "outputs": [],
   "source": [
    "# Given the index of a conflict, return the game swap that results least nConflicts.\n",
    "def minSwap(assignment,conflict,nTeams):\n",
    "    bestN,bestOthers=None,[]\n",
    "    for i in range(len(assignment)):\n",
    "        assignment[conflict],assignment[i]=assignment[i],assignment[conflict]\n",
    "        n=nConflicts(assignment,nTeams)\n",
    "        if not bestN or n==bestN:\n",
    "            bestN=n\n",
    "            bestOthers.append(i)\n",
    "        elif bestN and n<bestN:\n",
    "            bestN=n\n",
    "            bestOthers=[i]       \n",
    "        assignment[conflict],assignment[i]=assignment[i],assignment[conflict]\n",
    "    return random.choice(bestOthers)"
   ]
  },
  {
   "cell_type": "code",
   "execution_count": 23,
   "id": "bb8f1d11",
   "metadata": {},
   "outputs": [],
   "source": [
    "# Returns the index of a random conflict in assignment.\n",
    "def randomConflict(assignment,nTeams):\n",
    "    indices=np.argwhere(conflicts(assignment,nTeams))\n",
    "    return indices[np.random.randint(0,indices.shape[0])][0]"
   ]
  },
  {
   "cell_type": "code",
   "execution_count": 24,
   "id": "28b82310",
   "metadata": {},
   "outputs": [],
   "source": [
    "# Min Conflicts implementation.\n",
    "# Returns final state of current and wether it was solved (nConflicts==0)\n",
    "def minConflicts(nTeams,maxSteps,iniApprox=True,debug=False,autoEndK=100):\n",
    "    current=approxAssignment(nTeams) if iniApprox else randomAssignment(nTeams)\n",
    "    n=nConflicts(current,nTeams)\n",
    "    lastK=[]\n",
    "    for i in range(maxSteps):\n",
    "        n=nConflicts(current,nTeams)\n",
    "        lastK.append(n)\n",
    "        lastK=lastK[-autoEndK:]\n",
    "        if debug:print(n)\n",
    "        if n==0 or (lastK and lastK.count(n)==autoEndK):break\n",
    "        conflict=randomConflict(current,nTeams)\n",
    "        other=minSwap(current,conflict,nTeams)\n",
    "        current[conflict],current[other]=current[other],current[conflict]\n",
    "    return current,i#i!=maxSteps-1"
   ]
  },
  {
   "cell_type": "code",
   "execution_count": 25,
   "id": "514e42c0",
   "metadata": {},
   "outputs": [],
   "source": [
    "def kMinConflictsSolutions(n,k):\n",
    "    solutions=[]\n",
    "    avrgTime,avrgSteps,avrgResets=0,0,0\n",
    "    maxSteps=n*15\n",
    "    while len(solutions)<k:\n",
    "        start=time.time()\n",
    "        sol,steps=minConflicts(n,maxSteps,debug=False)\n",
    "        t=time.time()-start\n",
    "        if nConflicts(sol,n)==0:\n",
    "            solutions.append(tuple(sol))\n",
    "            avrgTime+=t\n",
    "            avrgSteps+=steps\n",
    "        else:\n",
    "            avrgResets+=1\n",
    "    return solutions,list(set(solutions)),avrgTime/k,avrgSteps/k,avrgResets/k,maxSteps"
   ]
  },
  {
   "cell_type": "code",
   "execution_count": null,
   "id": "79a1bb33",
   "metadata": {
    "scrolled": true
   },
   "outputs": [],
   "source": [
    "for n in range(20,32,2):\n",
    "    sols,unique,t,steps,resets,maxSteps=kMinConflictsSolutions(n,100)\n",
    "    with open(\"minConflictsSols/\"+str(n)+\".json\",\"w\") as f:\n",
    "        f.write(json.dumps(sols))\n",
    "    print(n,len(unique),t,steps,resets,maxSteps)"
   ]
  },
  {
   "cell_type": "code",
   "execution_count": null,
   "id": "c87e4df2",
   "metadata": {},
   "outputs": [],
   "source": [
    "minConflicts(32,1000,debug=True)"
   ]
  },
  {
   "cell_type": "code",
   "execution_count": null,
   "id": "047a5ac8",
   "metadata": {
    "scrolled": true
   },
   "outputs": [],
   "source": [
    "# Average nConflicts per nTeams of randomAssignment and \n",
    "n=6\n",
    "s=0\n",
    "print(\"n,avrRandom,avrApprox,Max,%avr rndom,%avrApprox\")\n",
    "for n in range(4,42,2):\n",
    "    a=0\n",
    "    s=0\n",
    "    for i in range(100):\n",
    "        s+=nConflicts(randomAssignment(n),n)\n",
    "        a+=nConflicts(approxAssignment(n),n)\n",
    "    print(','.join(map(str,[n,s/100,a/100,n*(n-1),(s/100)/(n*(n-1)),(a/100)/(n*(n-1))])))"
   ]
  },
  {
   "cell_type": "markdown",
   "id": "29bc7069",
   "metadata": {},
   "source": [
    "## Genetic algo"
   ]
  },
  {
   "cell_type": "markdown",
   "id": "38a2acec",
   "metadata": {},
   "source": [
    "Tenemos que definir operadores de mutacion y de reproduccion. Lo que se me ocurrio es que el de mutacion puede ser un swap aleatorio y el de cruzamiento."
   ]
  },
  {
   "cell_type": "code",
   "execution_count": 28,
   "id": "41de88fe",
   "metadata": {},
   "outputs": [],
   "source": [
    "def mutate(assignment):\n",
    "    # Random swap\n",
    "    i,j=np.random.choice(len(assignment),size=2,replace=False)\n",
    "    assignment=assignment[:]\n",
    "    assignment[i],assignment[j]=assignment[j],assignment[i]\n",
    "    return assignment"
   ]
  },
  {
   "cell_type": "code",
   "execution_count": 29,
   "id": "c24954ee",
   "metadata": {},
   "outputs": [],
   "source": [
    "def freeMutate(assignment,nTeams):\n",
    "    a=assignment[:]\n",
    "    k=random.randint(0,len(a)-1)\n",
    "    a[k]=random.choice(games(nTeams))\n",
    "    return a"
   ]
  },
  {
   "cell_type": "code",
   "execution_count": 30,
   "id": "8e566c1e",
   "metadata": {},
   "outputs": [],
   "source": [
    "def crossover(a,b):\n",
    "    assert len(a)==len(b),\"a and b must be same length\"\n",
    "    k=random.randint(0,len(a)) # Random crossover point\n",
    "    #print(k)\n",
    "    offspring1=a[:k]\n",
    "    for game in b:\n",
    "        if len(offspring1)==len(a):break\n",
    "        if game not in offspring1:\n",
    "            offspring1.append(game)\n",
    "    \n",
    "    #print(offspring1,len(offspring1))\n",
    "    assert len(offspring1)==len(a)\n",
    "    return offspring1"
   ]
  },
  {
   "cell_type": "code",
   "execution_count": 31,
   "id": "cba8b24c",
   "metadata": {},
   "outputs": [],
   "source": [
    "def freeCrossover(a,b):\n",
    "    assert len(a)==len(b),\"a and b must be same length\"\n",
    "    k=random.randint(0,len(a)) # Random crossover point\n",
    "    offspring1=a[:k]+b[k:]\n",
    "    offspring2=b[:k]+a[k:]\n",
    "    assert len(offspring1)==len(a) and len(offspring2)==len(a)\n",
    "    return offspring1,offspring2"
   ]
  },
  {
   "cell_type": "code",
   "execution_count": 32,
   "id": "a28824df",
   "metadata": {},
   "outputs": [],
   "source": [
    "def hamming(a,b):\n",
    "    dist=0\n",
    "    assert len(a)==len(b)\n",
    "    for i in range(len(a)):\n",
    "        if a[i]!=b[i]:\n",
    "            dist+=1\n",
    "    return dist"
   ]
  },
  {
   "cell_type": "code",
   "execution_count": 33,
   "id": "a3d6729a",
   "metadata": {},
   "outputs": [],
   "source": [
    "def hammingOfList(l):\n",
    "    dist=0\n",
    "    for i in range(len(l)):\n",
    "        for j in range(i+1,len(l)):\n",
    "            dist+=hamming(l[i],l[j])\n",
    "    return dist"
   ]
  },
  {
   "cell_type": "code",
   "execution_count": 34,
   "id": "a0f51de9",
   "metadata": {},
   "outputs": [],
   "source": [
    "a=randomAssignment(5)\n",
    "b=randomAssignment(5)"
   ]
  },
  {
   "cell_type": "code",
   "execution_count": 38,
   "id": "472f9f56",
   "metadata": {},
   "outputs": [],
   "source": [
    "def get_index_positions(list_of_elems, element):\n",
    "    ''' Returns the indexes of all occurrences of give element in\n",
    "    the list- listOfElements \n",
    "    source: https://thispointer.com/python-how-to-find-all-indexes-of-an-item-in-a-list/\n",
    "    '''\n",
    "    index_pos_list = []\n",
    "    index_pos = 0\n",
    "    while True:\n",
    "        try:\n",
    "            # Search for item in list from indexPos to the end of list\n",
    "            index_pos = list_of_elems.index(element, index_pos)\n",
    "            # Add the index position in list\n",
    "            index_pos_list.append(index_pos)\n",
    "            index_pos += 1\n",
    "        except ValueError as e:\n",
    "            break\n",
    "    return index_pos_list\n",
    "\n",
    "def timeBetweenPairs(assignment,nTeams):\n",
    "    dict_aux = {} \n",
    "    maxPossible = (len(assignment)/2)**2\n",
    "    for i in range(1,nTeams+1):\n",
    "        for j in range(i+1,nTeams+1):\n",
    "            if i==j:continue                   \n",
    "            inst_ord = get_index_positions(assignment, (i,j))\n",
    "            inst_inv = get_index_positions(assignment, (j,i))            \n",
    "            if len(inst_ord)>0 and len(inst_inv)>0:\n",
    "                dict_aux[str((i,j))] = max(abs(max(inst_ord) - min(inst_inv)), abs(min(inst_ord) - max(inst_inv)))\n",
    "            else: \n",
    "                # asigna el peor caso\n",
    "                dict_aux[str((i,j))] = (maxPossible - sum(dict_aux.values())) / (len(assignment) - len(dict_aux))\n",
    "    \n",
    "                                        \n",
    "    return (sum(dict_aux.values()) - 0.1*maxPossible)/maxPossible"
   ]
  },
  {
   "cell_type": "code",
   "execution_count": 39,
   "id": "f6e16b45",
   "metadata": {},
   "outputs": [
    {
     "name": "stdout",
     "output_type": "stream",
     "text": [
      "MÁX - 0.9555555555555555: [(4, 3), (3, 2), (3, 1), (1, 4), (4, 2), (4, 3), (2, 1), (4, 1), (3, 4), (2, 4), (1, 3), (2, 3)]\n",
      "MÍN - 0.20555555555555557: [(2, 3), (3, 2), (4, 3), (1, 3), (3, 4), (4, 1), (1, 4), (1, 3), (1, 2), (2, 4), (4, 2), (2, 4)]\n"
     ]
    },
    {
     "data": {
      "image/png": "[encoded data removed]",
      "text/plain": [
       "<Figure size 432x288 with 1 Axes>"
      ]
     },
     "metadata": {
      "needs_background": "light"
     },
     "output_type": "display_data"
    }
   ],
   "source": [
    "x = []\n",
    "p_max = p_min = randomAssignment(4)\n",
    "max_score = 0\n",
    "min_score = 1\n",
    "for _ in range(10000):\n",
    "    r = randomAssignment(4)\n",
    "    p = freeMutate(r,4)\n",
    "    for i in range(random.randint(1, 9)):\n",
    "        p = freeMutate(p,4)\n",
    "    score = timeBetweenPairs(p,4)\n",
    "    x.append(score)\n",
    "    if score > max_score:\n",
    "        p_max = p\n",
    "        max_score = score\n",
    "    if score < min_score:\n",
    "        p_min = p\n",
    "        min_score = score\n",
    "    \n",
    "\n",
    "plt.hist(x, density=False, bins=10)\n",
    "plt.ylabel('freq')\n",
    "plt.xlabel('timeBetweenPairs')\n",
    "\n",
    "print(\"MÁX - \" + str(max_score) + \": \" + str(p_max))\n",
    "print(\"MÍN - \" + str(min_score) + \": \" + str(p_min))"
   ]
  },
  {
   "cell_type": "code",
   "execution_count": 40,
   "id": "2452af25",
   "metadata": {},
   "outputs": [
    {
     "data": {
      "text/plain": [
       "0.7576388888888889"
      ]
     },
     "execution_count": 40,
     "metadata": {},
     "output_type": "execute_result"
    }
   ],
   "source": [
    "r=[(1, 4), (4, 3), (1, 2), (3, 2), (3, 1), (2, 1), (4, 3), (1, 3), (4, 1), (3, 4), (2, 3), (2, 4)]\n",
    "timeBetweenPairs(r,4)"
   ]
  },
  {
   "cell_type": "code",
   "execution_count": 41,
   "id": "7a829c46",
   "metadata": {},
   "outputs": [
    {
     "name": "stdout",
     "output_type": "stream",
     "text": [
      "[(4, 3), (1, 4), (3, 4), (1, 2), (4, 1), (1, 3), (4, 1), (3, 1), (2, 1), (2, 3), (4, 2), (2, 4)]\n"
     ]
    },
    {
     "data": {
      "text/plain": [
       "0.39074074074074067"
      ]
     },
     "execution_count": 41,
     "metadata": {},
     "output_type": "execute_result"
    }
   ],
   "source": [
    "r=randomAssignment(4)\n",
    "r=freeMutate(r,4)\n",
    "print(r)\n",
    "timeBetweenPairs(r,4)"
   ]
  },
  {
   "cell_type": "code",
   "execution_count": 42,
   "id": "3d82c5ed",
   "metadata": {},
   "outputs": [],
   "source": [
    "def alterningScore(assignment, nTeams):\n",
    "    teams={str(i):[] for i in range(1,nTeams+1)}\n",
    "    \n",
    "    for game in assignment:\n",
    "        teams[str(game[0])].append(0) # 0 if local\n",
    "        teams[str(game[1])].append(1) # 1 if visiting\n",
    "        \n",
    "    # Average of scores\n",
    "    return np.array([aux_score(team) for team in teams.values()]).mean() \n",
    "\n",
    "def aux_score(arr):\n",
    "    s=0\n",
    "    previous=arr[0]\n",
    "    for i in range(1,len(arr)):\n",
    "        if arr[i]!=previous:\n",
    "            s+=1\n",
    "        previous=arr[i]\n",
    "    return (s-1)/(len(arr)-2)"
   ]
  },
  {
   "cell_type": "code",
   "execution_count": 43,
   "id": "2a452255",
   "metadata": {},
   "outputs": [],
   "source": [
    "# Returns the proportion of weeks in which a city has a game\n",
    "# given a tournament assignment and the teams in that city.\n",
    "def cityOccupied(assignment,teamsInCity,nTeams):\n",
    "    weeks=0\n",
    "    nOccupied=0\n",
    "    teamsInCity=set(teamsInCity)\n",
    "    n=nTeams\n",
    "    for i in range(0,len(assignment),n//2):\n",
    "        weeks+=1\n",
    "        week=assignment[i:i+n//2]\n",
    "        occupied=False\n",
    "        for game in week:\n",
    "            if game[0] in teamsInCity:\n",
    "                occupied=True\n",
    "                break\n",
    "        if occupied:\n",
    "            nOccupied+=1\n",
    "    return nOccupied/weeks          "
   ]
  },
  {
   "cell_type": "code",
   "execution_count": 44,
   "id": "5c21bafc",
   "metadata": {},
   "outputs": [],
   "source": [
    "# Returns the average of cityOccupied() for every city.\n",
    "def citiesAlwaysOccupied(assignment,cityTeams,nTeams):\n",
    "    return np.array([cityOccupied(assignment,teamsInCity,nTeams) for teamsInCity in cityTeams.values()]).mean()"
   ]
  },
  {
   "cell_type": "code",
   "execution_count": 45,
   "id": "64a91b16",
   "metadata": {
    "scrolled": true
   },
   "outputs": [
    {
     "data": {
      "text/plain": [
       "[(1, 3),\n",
       " (2, 4),\n",
       " (3, 4),\n",
       " (1, 2),\n",
       " (3, 1),\n",
       " (4, 2),\n",
       " (4, 1),\n",
       " (3, 2),\n",
       " (4, 3),\n",
       " (2, 1),\n",
       " (2, 3),\n",
       " (1, 4)]"
      ]
     },
     "execution_count": 45,
     "metadata": {},
     "output_type": "execute_result"
    }
   ],
   "source": [
    "r=randomAssignment(4)\n",
    "r"
   ]
  },
  {
   "cell_type": "code",
   "execution_count": 46,
   "id": "b51859aa",
   "metadata": {},
   "outputs": [
    {
     "data": {
      "text/plain": [
       "array([[33. , 26. , 53.5],\n",
       "       [26. , 75. , 33. ],\n",
       "       [53.5, 33. , 60. ]])"
      ]
     },
     "execution_count": 46,
     "metadata": {},
     "output_type": "execute_result"
    }
   ],
   "source": [
    "distances=randomCityDistances(3)\n",
    "distances"
   ]
  },
  {
   "cell_type": "code",
   "execution_count": 47,
   "id": "cc2d7508",
   "metadata": {},
   "outputs": [
    {
     "data": {
      "text/plain": [
       "{1: [4], 2: [3, 1], 3: [2]}"
      ]
     },
     "execution_count": 47,
     "metadata": {},
     "output_type": "execute_result"
    }
   ],
   "source": [
    "cityTeams=randomCityTeams(4,3)\n",
    "cityTeams"
   ]
  },
  {
   "cell_type": "code",
   "execution_count": 48,
   "id": "a9db4bc9",
   "metadata": {},
   "outputs": [],
   "source": [
    "teamCity=teamToCity(cityTeams)"
   ]
  },
  {
   "cell_type": "code",
   "execution_count": 49,
   "id": "fcc71284",
   "metadata": {},
   "outputs": [
    {
     "ename": "NameError",
     "evalue": "name 'distanceTraveled' is not defined",
     "output_type": "error",
     "traceback": [
      "\u001b[1;31m---------------------------------------------------------------------------\u001b[0m",
      "\u001b[1;31mNameError\u001b[0m                                 Traceback (most recent call last)",
      "\u001b[1;32m<ipython-input-49-3889aca3f631>\u001b[0m in \u001b[0;36m<module>\u001b[1;34m\u001b[0m\n\u001b[1;32m----> 1\u001b[1;33m \u001b[0mdistanceTraveled\u001b[0m\u001b[1;33m(\u001b[0m\u001b[0mr\u001b[0m\u001b[1;33m,\u001b[0m\u001b[1;36m1\u001b[0m\u001b[1;33m,\u001b[0m\u001b[0mteamCity\u001b[0m\u001b[1;33m,\u001b[0m\u001b[0mdistances\u001b[0m\u001b[1;33m)\u001b[0m\u001b[1;33m\u001b[0m\u001b[1;33m\u001b[0m\u001b[0m\n\u001b[0m",
      "\u001b[1;31mNameError\u001b[0m: name 'distanceTraveled' is not defined"
     ]
    }
   ],
   "source": [
    "distanceTraveled(r,1,teamCity,distances)"
   ]
  },
  {
   "cell_type": "code",
   "execution_count": 50,
   "id": "cefe1f5f",
   "metadata": {},
   "outputs": [],
   "source": [
    "# Returns the sum of the distance travelled by each team in an assignment\n",
    "def totalDistanceTravelled(assignment,cityTeams,cityDistances,nTeams):\n",
    "    teamsCity=teamToCity(cityTeams)\n",
    "    return sum([distanceTraveled(assignment,team,teamsCity,cityDistances) for team in range(1,nTeams+1)])  "
   ]
  },
  {
   "cell_type": "code",
   "execution_count": 51,
   "id": "ad8082dd",
   "metadata": {},
   "outputs": [],
   "source": [
    "# Assumes a Traveling Tournament Problem (i.e. teams don't return home)\n",
    "def distanceTraveled(assignment,team,teamsToCity,cityDistances):\n",
    "    distance=0\n",
    "    city=teamsToCity[team]\n",
    "    # Asume start at home\n",
    "    for game in assignment:\n",
    "        if team==game[1]: # If plays as visitor\n",
    "            otherCity=teamsToCity[game[0]]\n",
    "            distance+=2*cityDistances[city-1][otherCity-1]\n",
    "            city=otherCity\n",
    "        elif team==game[0]:\n",
    "            otherCity=teamCity[team] # Home city\n",
    "            distance+=2*cityDistances[city-1][otherCity-1]\n",
    "            city=otherCity\n",
    "    return distance"
   ]
  },
  {
   "cell_type": "code",
   "execution_count": 52,
   "id": "44cfdd27",
   "metadata": {},
   "outputs": [],
   "source": [
    "# Fitness function with which to eval individuals and determine their survaival.\n",
    "# At first, we will only consider the number of conflicts.\n",
    "# We can then add other soft requirements\n",
    "def fitness(individual,nTeams,cityTeams,weights=[0.85,0.05,0.05,0.05]):\n",
    "    return -nConflicts(individual,nTeams)\n",
    "    \"\"\"\"\n",
    "    assert abs(sum(weights)-1)<1e-5,sum(weights)\n",
    "    # Normalizing nConflicts. To minimize.\n",
    "    conflicts=1-(nConflicts(individual,nTeams)/len(individual))\n",
    "    \n",
    "    # timeBetweenPair of teams score. Normalized. To maximize.\n",
    "    pairTimes=timeBetweenPairs(individual,nTeams)\n",
    "    \n",
    "    # alterningScore. Normalized. To maximize.\n",
    "    alterning=alterningScore(individual,nTeams)\n",
    "    \n",
    "    # citiesAlwaysOccupied score. Normalized. To maximize.\n",
    "    citiesAlways=citiesAlwaysOccupied(individual,cityTeams,nTeams)\n",
    "    \n",
    "    #print(conflicts,pairTimes,alterning,citiesAlways)\n",
    "    \n",
    "    return (conflicts*weights[0]+pairTimes*weights[1]+alterning*weights[2]+citiesAlways*weights[3])\n",
    "    \"\"\""
   ]
  },
  {
   "cell_type": "code",
   "execution_count": null,
   "id": "55837f57",
   "metadata": {},
   "outputs": [],
   "source": []
  },
  {
   "cell_type": "code",
   "execution_count": 53,
   "id": "e8a151a1",
   "metadata": {
    "scrolled": true
   },
   "outputs": [],
   "source": [
    "def evolve(seed,debug=False):\n",
    "    random.seed(seed)\n",
    "    np.random.seed(seed)\n",
    "    # Genetic algo\n",
    "    nTeams=4\n",
    "    cityTeams=randomCityTeams(nTeams,nTeams-1)\n",
    "    n=300 #size of population\n",
    "    nElite=int(n*0.05) #proportion best of population to retain\n",
    "    k=0.70 # can regulate \"temperature\"\n",
    "    mutationRate=0.1 # rate at which to mutate individuals\n",
    "    assert n%2==0,'N must be even to crossover'\n",
    "    # Random inicialitation of population\n",
    "    population=[approxAssignment(nTeams) for i in range(n)]\n",
    "    scores=[fitness(ind,nTeams,cityTeams) for ind in population]\n",
    "    gen=0\n",
    "    didntImprove=0\n",
    "    didntImproveMax=250\n",
    "    lastMax=None\n",
    "    while True:\n",
    "        \n",
    "        # SELECTION (Investigate other methods)\n",
    "        # Elitist -> choose best n\n",
    "        elite=sorted(population,key=lambda x:fitness(x,nTeams,cityTeams),reverse=True)[:nElite]\n",
    "\n",
    "        # Tournament with remaining n-nElite\n",
    "        fromTournament=[]\n",
    "        for _ in range(n-nElite):\n",
    "            a,b=np.random.choice(n,size=2,replace=False)\n",
    "            best,worst=(a,b) if fitness(population[a],nTeams,cityTeams)>fitness(population[b],nTeams,cityTeams) else (b,a)\n",
    "            if random.random()<k:\n",
    "                fromTournament.append(population[best])\n",
    "            else:\n",
    "                fromTournament.append(population[worst])\n",
    "\n",
    "        # CROSSOVER -> according to fitness\n",
    "        population=[]\n",
    "        for _ in range(n-nElite):\n",
    "            a,b=np.random.choice(len(fromTournament),size=2,replace=False)\n",
    "            population.append(freeCrossover(fromTournament[a],fromTournament[b])[0])\n",
    "\n",
    "        # MUTATION\n",
    "        for i in range(len(population)):\n",
    "            if random.random()<mutationRate:\n",
    "                population[i]=freeMutate(population[i],nTeams)\n",
    "\n",
    "        #Add elite\n",
    "        population=elite+population\n",
    "        assert len(population)==n\n",
    "\n",
    "        # LOGGING\n",
    "        scores=np.array([fitness(ind,nTeams,cityTeams) for ind in population])\n",
    "        conf=np.array([nConflicts(ind,nTeams) for ind in population])\n",
    "        #print(','.join([str(int(i)) for i in scores]),np.array(scores).mean())\n",
    "        if debug:\n",
    "            print(gen,k,scores.mean(),scores.min(),scores.max(),(np.array(scores)==0).sum(),'didnt',didntImprove,(conf==0).sum())\n",
    "\n",
    "        # STOPPING CRITIREA -> if 90% of population are valid sols. (Change later)\n",
    "        if not lastMax or scores.max()>lastMax:\n",
    "            lastMax=scores.max()\n",
    "            didntImprove=0\n",
    "        else:\n",
    "            didntImprove+=1\n",
    "\n",
    "        if didntImprove>=didntImproveMax:\n",
    "            break\n",
    "        gen+=1\n",
    "\n",
    "    return gen,scores.mean(),scores.min(),scores.max(),(np.array(scores)==0).sum(),population"
   ]
  },
  {
   "cell_type": "code",
   "execution_count": 54,
   "id": "c449458d",
   "metadata": {},
   "outputs": [],
   "source": [
    "def uniqueSolutions(population):\n",
    "    unique=set()\n",
    "    for i in population:\n",
    "        if nConflicts(i,nTeams)==0:\n",
    "            unique.add(tuple(i))\n",
    "    return unique"
   ]
  },
  {
   "cell_type": "code",
   "execution_count": null,
   "id": "2fff120e",
   "metadata": {
    "scrolled": true
   },
   "outputs": [],
   "source": [
    "for i in range(10):\n",
    "    gen,mean,_min,_max,valid,population=evolve(seed=i,debug=True)\n",
    "    uniqueSols=len(uniqueSolutions(population))\n",
    "    print(gen,mean,_min,_max,valid,uniqueSols)\n",
    "    break"
   ]
  },
  {
   "cell_type": "code",
   "execution_count": null,
   "id": "6bc66767",
   "metadata": {},
   "outputs": [],
   "source": []
  },
  {
   "cell_type": "code",
   "execution_count": null,
   "id": "6516ee02",
   "metadata": {},
   "outputs": [],
   "source": []
  },
  {
   "cell_type": "code",
   "execution_count": null,
   "id": "adae97e1",
   "metadata": {},
   "outputs": [],
   "source": [
    "[[(1, 4), (2, 3), (5, 7), (6, 8), (3, 4), (6, 5), (8, 1), (2, 7), (7, 1), (3, 6), (8, 5), (4, 2), (3, 7), (5, 2), (4, 8), (1, 6), (3, 1), (7, 2), (6, 4), (5, 8), (2, 8), (4, 5), (7, 6), (1, 3), (2, 5), (3, 8), (4, 7), (6, 1), (4, 6), (8, 3), (1, 7), (7, 5), (4, 1), (8, 7), (2, 6), (5, 3), (8, 2), (3, 5), (7, 4), (1, 8), (6, 2), (8, 4), (7, 3), (5, 1), (6, 7), (1, 5), (4, 3), (2, 1), (1, 2), (5, 6), (7, 8), (2, 4), (5, 4), (3, 2), (8, 6), (6, 3)], [(5, 2), (7, 1), (4, 8), (3, 6), (4, 5), (3, 2), (6, 1), (8, 7), (8, 3), (6, 7), (1, 4), (2, 5), (7, 3), (8, 6), (2, 4), (1, 5), (6, 5), (4, 1), (3, 8), (2, 7), (5, 6), (1, 3), (7, 2), (8, 4), (5, 8), (4, 7), (2, 6), (3, 1), (2, 8), (5, 7), (3, 4), (1, 6), (5, 4), (7, 8), (6, 2), (2, 3), (4, 6), (1, 8), (3, 7), (6, 3), (8, 1), (7, 5), (4, 3), (3, 5), (2, 1), (7, 6), (8, 5), (1, 7), (1, 2), (5, 3), (6, 4), (5, 1), (8, 2), (7, 4), (6, 8), (4, 2)]]"
   ]
  },
  {
   "cell_type": "code",
   "execution_count": null,
   "id": "d15256c3",
   "metadata": {},
   "outputs": [],
   "source": [
    "unique=set()\n",
    "for i in population:\n",
    "    if nConflicts(i,nTeams)==0:\n",
    "        unique.add(tuple(i))"
   ]
  },
  {
   "cell_type": "code",
   "execution_count": null,
   "id": "fd163674",
   "metadata": {},
   "outputs": [],
   "source": [
    "len(unique)"
   ]
  },
  {
   "cell_type": "code",
   "execution_count": null,
   "id": "ad9b3945",
   "metadata": {},
   "outputs": [],
   "source": [
    "for i in unique:\n",
    "    print(i)\n",
    "    for team in teamsInGames(list(i)):\n",
    "        if teamsInGames(list(i)).count(team)!=nTeams:\n",
    "            print(team,teamsInGames(list(i)).count(team),len(i))\n",
    "    print()"
   ]
  },
  {
   "cell_type": "code",
   "execution_count": null,
   "id": "572c502b",
   "metadata": {},
   "outputs": [],
   "source": []
  }
 ],
 "metadata": {
  "kernelspec": {
   "display_name": "Python 3",
   "language": "python",
   "name": "python3"
  },
  "language_info": {
   "codemirror_mode": {
    "name": "ipython",
    "version": 3
   },
   "file_extension": ".py",
   "mimetype": "text/x-python",
   "name": "python",
   "nbconvert_exporter": "python",
   "pygments_lexer": "ipython3",
   "version": "3.8.8"
  }
 },
 "nbformat": 4,
 "nbformat_minor": 5
}
